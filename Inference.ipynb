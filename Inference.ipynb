{
 "cells": [
  {
   "cell_type": "code",
   "execution_count": 1,
   "id": "f5f6130f-1757-471d-8996-542189692823",
   "metadata": {},
   "outputs": [
    {
     "data": {
      "text/plain": [
       "'2.1.2+cu118'"
      ]
     },
     "execution_count": 1,
     "metadata": {},
     "output_type": "execute_result"
    }
   ],
   "source": [
    "GLOBAL_SEED = 42\n",
    "\n",
    "import os\n",
    "os.environ[\"PYTHONIOENCODING\"] = \"utf8\"\n",
    "os.environ['PYTHONHASHSEED'] = str(GLOBAL_SEED)\n",
    "import sys\n",
    "from glob import glob\n",
    "\n",
    "import pandas as pd\n",
    "import numpy as np\n",
    "from numpy import random as np_rnd\n",
    "import random as rnd\n",
    "import shutil\n",
    "import gc\n",
    "import datetime\n",
    "from collections import defaultdict, Counter\n",
    "from tqdm import tqdm\n",
    "from multiprocessing import Pool, cpu_count\n",
    "import time\n",
    "import pickle\n",
    "import sklearn as skl\n",
    "from sklearn import model_selection\n",
    "\n",
    "import torch\n",
    "from torch.utils.data import Dataset, DataLoader\n",
    "from torch import nn\n",
    "import torch.nn.functional as F\n",
    "from torch.optim import AdamW, Adam, SparseAdam\n",
    "from transformers import get_polynomial_decay_schedule_with_warmup\n",
    "\n",
    "device = torch.device('cuda' if torch.cuda.is_available() else 'cpu')\n",
    "torch.__version__"
   ]
  },
  {
   "cell_type": "code",
   "execution_count": 2,
   "id": "1f5e85b3-006a-485c-9262-074ef0a21253",
   "metadata": {},
   "outputs": [],
   "source": [
    "from torch_geometric.data import Data\n",
    "from torch_geometric.utils import coalesce\n",
    "from torch_geometric.loader import DataLoader\n",
    "from torch_geometric.nn import GCNConv"
   ]
  },
  {
   "cell_type": "code",
   "execution_count": 3,
   "id": "b538132b-a250-41fa-bd10-52414641f0f8",
   "metadata": {},
   "outputs": [],
   "source": [
    "def seed_everything(seed=42):\n",
    "    os.environ['PYTHONHASHSEED'] = str(seed)\n",
    "    # python random\n",
    "    rnd.seed(seed)\n",
    "    # numpy random\n",
    "    np_rnd.seed(seed)\n",
    "    # tf random\n",
    "    try:\n",
    "        tf_rnd.set_seed(seed)\n",
    "    except:\n",
    "        pass\n",
    "    # RAPIDS random\n",
    "    try:\n",
    "        cp.random.seed(seed)\n",
    "    except:\n",
    "        pass\n",
    "    # pytorch random\n",
    "    try:\n",
    "        torch.manual_seed(seed)\n",
    "        torch.cuda.manual_seed(seed)\n",
    "        torch.backends.cudnn.deterministic = True\n",
    "    except:\n",
    "        pass\n",
    "        \n",
    "def pickleIO(obj, src, op=\"w\"):\n",
    "    if op==\"w\":\n",
    "        with open(src, op + \"b\") as f:\n",
    "            pickle.dump(obj, f)\n",
    "    elif op==\"r\":\n",
    "        with open(src, op + \"b\") as f:\n",
    "            tmp = pickle.load(f)\n",
    "        return tmp\n",
    "    \n",
    "def create_submission(df):\n",
    "    df = df.reset_index()\n",
    "    df[\"type\"] = df[\"type\"].map(CFG.contentType_mapper)\n",
    "    df[\"session_type\"] = df[\"session\"].astype(\"str\") + \"_\" + df[\"type\"].astype(\"str\") + \"s\"\n",
    "    df = df[[\"session_type\", \"prediction\"]].rename({\"prediction\": \"labels\"}, axis=1)\n",
    "    return df\n"
   ]
  },
  {
   "cell_type": "code",
   "execution_count": 4,
   "id": "36e16249-ac92-4966-811f-ee15d1641e1d",
   "metadata": {},
   "outputs": [],
   "source": [
    "class CFG:\n",
    "    contentType_mapper = pd.Series([\"clicks\", \"carts\", \"orders\"], index=[0, 1, 2])\n",
    "    target_weight = (0.1, 0.3, 0.6)\n",
    "    embed_dim = 28\n",
    "    "
   ]
  },
  {
   "cell_type": "code",
   "execution_count": 5,
   "id": "097fe1d1-b7be-4303-87de-f57b96c0fc9e",
   "metadata": {},
   "outputs": [],
   "source": [
    "node_feature = pickleIO(None, \"node_feature.pkl\", \"r\").to(device)\n",
    "edge_index = pickleIO(None, \"sampled_edge_train.pkl\", \"r\").to(device)"
   ]
  },
  {
   "cell_type": "code",
   "execution_count": 6,
   "id": "61a7101e-eebe-488c-9122-26eb7ebd261f",
   "metadata": {},
   "outputs": [],
   "source": [
    "class GCN(torch.nn.Module):\n",
    "    def __init__(self, n_aids, embed_dim):\n",
    "        super().__init__()\n",
    "        self.aid_factors = nn.Embedding(n_aids, embed_dim, sparse=False)\n",
    "        self.gcn = GCNConv(embed_dim, embed_dim)\n",
    "        self.gcn_act = nn.ReLU()\n",
    "        self.lin = nn.Linear(embed_dim, embed_dim)\n",
    "    def forward(self, x, edge_index):\n",
    "        x = self.aid_factors(x)\n",
    "        x = self.gcn(x, edge_index=edge_index)\n",
    "        x = self.gcn_act(x)\n",
    "        x = self.lin(x)\n",
    "        return x"
   ]
  },
  {
   "cell_type": "code",
   "execution_count": 7,
   "id": "3f6f44ac-9300-4a1f-9958-2992ea74000c",
   "metadata": {},
   "outputs": [
    {
     "data": {
      "text/plain": [
       "90"
      ]
     },
     "execution_count": 7,
     "metadata": {},
     "output_type": "execute_result"
    }
   ],
   "source": [
    "model = GCN(len(node_feature), 28)\n",
    "model.load_state_dict(torch.load(\"model_fold0_best.pth\", map_location=torch.device('cpu'))[\"model\"])\n",
    "model.eval()\n",
    "model.to(device)\n",
    "with torch.no_grad():\n",
    "    embeddings = model(node_feature, edge_index).detach().cpu().numpy()\n",
    "del model, edge_index; gc.collect()"
   ]
  },
  {
   "cell_type": "code",
   "execution_count": 8,
   "id": "fdd4d3d0-b2d1-4731-8121-8a422ef211cc",
   "metadata": {},
   "outputs": [
    {
     "data": {
      "text/plain": [
       "array([[-0.17929766, -0.07816672,  0.0561974 , ..., -0.08671962,\n",
       "        -0.03234575, -0.01899198],\n",
       "       [ 0.27164188,  0.28182897,  0.11662263, ...,  0.04597885,\n",
       "        -0.5395058 , -0.31788978],\n",
       "       [-0.23975751,  0.88707423, -0.40279135, ..., -0.03156289,\n",
       "         0.06961562,  0.5065333 ],\n",
       "       ...,\n",
       "       [ 0.0042207 ,  0.25794527,  0.25145513, ..., -0.21140511,\n",
       "        -0.02078458, -0.16550325],\n",
       "       [-0.3870101 ,  0.5038369 , -0.3100036 , ...,  0.38778126,\n",
       "        -0.04624266, -0.3733773 ],\n",
       "       [ 0.7157803 , -0.34527478, -0.6836545 , ...,  0.71059257,\n",
       "        -0.16575226,  0.46625578]], dtype=float32)"
      ]
     },
     "execution_count": 8,
     "metadata": {},
     "output_type": "execute_result"
    }
   ],
   "source": [
    "embeddings"
   ]
  },
  {
   "cell_type": "code",
   "execution_count": 9,
   "id": "5ed05354-2b88-4bb0-b075-cdc1a17127c3",
   "metadata": {},
   "outputs": [
    {
     "name": "stdout",
     "output_type": "stream",
     "text": [
      "Requirement already satisfied: annoy in c:\\users\\hp\\appdata\\roaming\\python\\python38\\site-packages (1.17.3)\n",
      "Note: you may need to restart the kernel to use updated packages.\n"
     ]
    }
   ],
   "source": [
    "pip install --user annoy"
   ]
  },
  {
   "cell_type": "code",
   "execution_count": 10,
   "id": "28b28426-4102-4ecc-b122-f4bea9360c28",
   "metadata": {},
   "outputs": [],
   "source": [
    "import annoy\n",
    "from annoy import AnnoyIndex"
   ]
  },
  {
   "cell_type": "code",
   "execution_count": 11,
   "id": "64ea6a6e-5c43-4e7b-ab9a-8f78bdf90997",
   "metadata": {},
   "outputs": [
    {
     "data": {
      "text/plain": [
       "True"
      ]
     },
     "execution_count": 11,
     "metadata": {},
     "output_type": "execute_result"
    }
   ],
   "source": [
    "ntrees = 100\n",
    "\n",
    "searcher = AnnoyIndex(CFG.embed_dim, 'euclidean')\n",
    "searcher.set_seed(GLOBAL_SEED)\n",
    "\n",
    "for idx, value in enumerate(embeddings):\n",
    "    searcher.add_item(idx, value)\n",
    "\n",
    "searcher.build(ntrees) "
   ]
  },
  {
   "cell_type": "code",
   "execution_count": 12,
   "id": "2f809c57-f786-4864-983f-5364858a933d",
   "metadata": {},
   "outputs": [
    {
     "data": {
      "text/plain": [
       "0"
      ]
     },
     "execution_count": 12,
     "metadata": {},
     "output_type": "execute_result"
    }
   ],
   "source": [
    "del node_feature; gc.collect()"
   ]
  },
  {
   "cell_type": "code",
   "execution_count": 13,
   "id": "93b21169-835f-4ae5-9d05-c40fc76c9d2f",
   "metadata": {},
   "outputs": [
    {
     "data": {
      "text/plain": [
       "0"
      ]
     },
     "execution_count": 13,
     "metadata": {},
     "output_type": "execute_result"
    }
   ],
   "source": [
    "test = pd.read_parquet('./data/test.parquet')\n",
    "session_types = ['clicks', 'carts', 'orders']\n",
    "test_session_AIDs = test.reset_index(drop=True).groupby('session')['aid'].apply(list)\n",
    "test_session_types = test.reset_index(drop=True).groupby('session')['type'].apply(list)\n",
    "del test; gc.collect()"
   ]
  },
  {
   "cell_type": "code",
   "execution_count": 14,
   "id": "5717204e-939d-4de5-b2c4-039b198575c6",
   "metadata": {},
   "outputs": [
    {
     "name": "stderr",
     "output_type": "stream",
     "text": [
      "100%|███████████████████████████████████████████████████████████████████████| 1671803/1671803 [38:57<00:00, 715.10it/s]\n"
     ]
    }
   ],
   "source": [
    "n_aids = 20\n",
    "\n",
    "output = {\n",
    "    \"session\": [],\n",
    "    \"type\": [],\n",
    "    \"rec\": [],\n",
    "    \"score\": [],\n",
    "}\n",
    "\n",
    "for SESS, AIDs, types in tqdm(zip(test_session_AIDs.index, test_session_AIDs.values, test_session_types.values), total=len(test_session_AIDs.index)):\n",
    "    candidates = searcher.get_nns_by_item(AIDs[-1], 21)[1:]\n",
    "    if len(candidates) == 0: candidates = AIDs.copy()\n",
    "\n",
    "    candidates = Counter(candidates)\n",
    "    rec, score = zip(*candidates.most_common(n_aids))\n",
    "    \n",
    "    output[\"session\"].extend([SESS] * 3)\n",
    "    output[\"type\"].extend([0, 1, 2])\n",
    "    output[\"rec\"].extend([\" \".join(pd.Series(rec, dtype=\"str\").values)] * 3)\n",
    "    output[\"score\"].extend([\" \".join(pd.Series(score, dtype=\"str\").values)] * 3)\n",
    "\n",
    "output = pd.DataFrame(output).set_index([\"session\", \"type\"])"
   ]
  },
  {
   "cell_type": "code",
   "execution_count": 15,
   "id": "092c0003-b340-471b-8c7b-1e4d42884088",
   "metadata": {},
   "outputs": [
    {
     "data": {
      "text/html": [
       "<div>\n",
       "<style scoped>\n",
       "    .dataframe tbody tr th:only-of-type {\n",
       "        vertical-align: middle;\n",
       "    }\n",
       "\n",
       "    .dataframe tbody tr th {\n",
       "        vertical-align: top;\n",
       "    }\n",
       "\n",
       "    .dataframe thead th {\n",
       "        text-align: right;\n",
       "    }\n",
       "</style>\n",
       "<table border=\"1\" class=\"dataframe\">\n",
       "  <thead>\n",
       "    <tr style=\"text-align: right;\">\n",
       "      <th></th>\n",
       "      <th></th>\n",
       "      <th>rec</th>\n",
       "      <th>score</th>\n",
       "    </tr>\n",
       "    <tr>\n",
       "      <th>session</th>\n",
       "      <th>type</th>\n",
       "      <th></th>\n",
       "      <th></th>\n",
       "    </tr>\n",
       "  </thead>\n",
       "  <tbody>\n",
       "    <tr>\n",
       "      <th rowspan=\"3\" valign=\"top\">12899779</th>\n",
       "      <th>0</th>\n",
       "      <td>1035726 1034086 553695 1010169 1723172 1679994...</td>\n",
       "      <td>1 1 1 1 1 1 1 1 1 1 1 1 1 1 1 1 1 1 1 1</td>\n",
       "    </tr>\n",
       "    <tr>\n",
       "      <th>1</th>\n",
       "      <td>1035726 1034086 553695 1010169 1723172 1679994...</td>\n",
       "      <td>1 1 1 1 1 1 1 1 1 1 1 1 1 1 1 1 1 1 1 1</td>\n",
       "    </tr>\n",
       "    <tr>\n",
       "      <th>2</th>\n",
       "      <td>1035726 1034086 553695 1010169 1723172 1679994...</td>\n",
       "      <td>1 1 1 1 1 1 1 1 1 1 1 1 1 1 1 1 1 1 1 1</td>\n",
       "    </tr>\n",
       "    <tr>\n",
       "      <th rowspan=\"2\" valign=\"top\">12899780</th>\n",
       "      <th>0</th>\n",
       "      <td>1229906 484175 1707102 903505 812732 243201 60...</td>\n",
       "      <td>1 1 1 1 1 1 1 1 1 1 1 1 1 1 1 1 1 1 1 1</td>\n",
       "    </tr>\n",
       "    <tr>\n",
       "      <th>1</th>\n",
       "      <td>1229906 484175 1707102 903505 812732 243201 60...</td>\n",
       "      <td>1 1 1 1 1 1 1 1 1 1 1 1 1 1 1 1 1 1 1 1</td>\n",
       "    </tr>\n",
       "    <tr>\n",
       "      <th>...</th>\n",
       "      <th>...</th>\n",
       "      <td>...</td>\n",
       "      <td>...</td>\n",
       "    </tr>\n",
       "    <tr>\n",
       "      <th rowspan=\"2\" valign=\"top\">14571580</th>\n",
       "      <th>1</th>\n",
       "      <td>1345247 1323437 1053699 494622 1843398 282588 ...</td>\n",
       "      <td>1 1 1 1 1 1 1 1 1 1 1 1 1 1 1 1 1 1 1 1</td>\n",
       "    </tr>\n",
       "    <tr>\n",
       "      <th>2</th>\n",
       "      <td>1345247 1323437 1053699 494622 1843398 282588 ...</td>\n",
       "      <td>1 1 1 1 1 1 1 1 1 1 1 1 1 1 1 1 1 1 1 1</td>\n",
       "    </tr>\n",
       "    <tr>\n",
       "      <th rowspan=\"3\" valign=\"top\">14571581</th>\n",
       "      <th>0</th>\n",
       "      <td>923052 349927 1819514 1251085 144001 1106435 7...</td>\n",
       "      <td>1 1 1 1 1 1 1 1 1 1 1 1 1 1 1 1 1 1 1 1</td>\n",
       "    </tr>\n",
       "    <tr>\n",
       "      <th>1</th>\n",
       "      <td>923052 349927 1819514 1251085 144001 1106435 7...</td>\n",
       "      <td>1 1 1 1 1 1 1 1 1 1 1 1 1 1 1 1 1 1 1 1</td>\n",
       "    </tr>\n",
       "    <tr>\n",
       "      <th>2</th>\n",
       "      <td>923052 349927 1819514 1251085 144001 1106435 7...</td>\n",
       "      <td>1 1 1 1 1 1 1 1 1 1 1 1 1 1 1 1 1 1 1 1</td>\n",
       "    </tr>\n",
       "  </tbody>\n",
       "</table>\n",
       "<p>5015409 rows × 2 columns</p>\n",
       "</div>"
      ],
      "text/plain": [
       "                                                             rec  \\\n",
       "session  type                                                      \n",
       "12899779 0     1035726 1034086 553695 1010169 1723172 1679994...   \n",
       "         1     1035726 1034086 553695 1010169 1723172 1679994...   \n",
       "         2     1035726 1034086 553695 1010169 1723172 1679994...   \n",
       "12899780 0     1229906 484175 1707102 903505 812732 243201 60...   \n",
       "         1     1229906 484175 1707102 903505 812732 243201 60...   \n",
       "...                                                          ...   \n",
       "14571580 1     1345247 1323437 1053699 494622 1843398 282588 ...   \n",
       "         2     1345247 1323437 1053699 494622 1843398 282588 ...   \n",
       "14571581 0     923052 349927 1819514 1251085 144001 1106435 7...   \n",
       "         1     923052 349927 1819514 1251085 144001 1106435 7...   \n",
       "         2     923052 349927 1819514 1251085 144001 1106435 7...   \n",
       "\n",
       "                                                 score  \n",
       "session  type                                           \n",
       "12899779 0     1 1 1 1 1 1 1 1 1 1 1 1 1 1 1 1 1 1 1 1  \n",
       "         1     1 1 1 1 1 1 1 1 1 1 1 1 1 1 1 1 1 1 1 1  \n",
       "         2     1 1 1 1 1 1 1 1 1 1 1 1 1 1 1 1 1 1 1 1  \n",
       "12899780 0     1 1 1 1 1 1 1 1 1 1 1 1 1 1 1 1 1 1 1 1  \n",
       "         1     1 1 1 1 1 1 1 1 1 1 1 1 1 1 1 1 1 1 1 1  \n",
       "...                                                ...  \n",
       "14571580 1     1 1 1 1 1 1 1 1 1 1 1 1 1 1 1 1 1 1 1 1  \n",
       "         2     1 1 1 1 1 1 1 1 1 1 1 1 1 1 1 1 1 1 1 1  \n",
       "14571581 0     1 1 1 1 1 1 1 1 1 1 1 1 1 1 1 1 1 1 1 1  \n",
       "         1     1 1 1 1 1 1 1 1 1 1 1 1 1 1 1 1 1 1 1 1  \n",
       "         2     1 1 1 1 1 1 1 1 1 1 1 1 1 1 1 1 1 1 1 1  \n",
       "\n",
       "[5015409 rows x 2 columns]"
      ]
     },
     "execution_count": 15,
     "metadata": {},
     "output_type": "execute_result"
    }
   ],
   "source": [
    "output"
   ]
  },
  {
   "cell_type": "code",
   "execution_count": 16,
   "id": "a0a9a352-82ba-49ed-bd79-a72855be144f",
   "metadata": {},
   "outputs": [],
   "source": [
    "output.reset_index().to_parquet(\"./raw_output.parquet\")"
   ]
  },
  {
   "cell_type": "code",
   "execution_count": 17,
   "id": "3e1b2a64-f275-4374-a554-ad43a183b44b",
   "metadata": {},
   "outputs": [],
   "source": [
    "output[\"session_type\"] = [str(i[0]) + \"_\" + str(CFG.contentType_mapper[i[1]]) for i in output.index]"
   ]
  },
  {
   "cell_type": "code",
   "execution_count": 18,
   "id": "f87359af-de58-4c40-9de1-dd61c0fa02ea",
   "metadata": {},
   "outputs": [],
   "source": [
    "submission = pd.read_csv(\"./data/sample_submission.csv\")\n",
    "submission = submission.set_index(\"session_type\")\n",
    "submission.loc[output[\"session_type\"].values, \"labels\"] = output[\"rec\"].values\n",
    "submission = submission.reset_index()\n",
    "submission.to_csv(\"submission.csv\", index=False)"
   ]
  },
  {
   "cell_type": "code",
   "execution_count": 19,
   "id": "d01dfe87-e9ad-479b-9626-28cc26f39bef",
   "metadata": {},
   "outputs": [
    {
     "data": {
      "text/html": [
       "<div>\n",
       "<style scoped>\n",
       "    .dataframe tbody tr th:only-of-type {\n",
       "        vertical-align: middle;\n",
       "    }\n",
       "\n",
       "    .dataframe tbody tr th {\n",
       "        vertical-align: top;\n",
       "    }\n",
       "\n",
       "    .dataframe thead th {\n",
       "        text-align: right;\n",
       "    }\n",
       "</style>\n",
       "<table border=\"1\" class=\"dataframe\">\n",
       "  <thead>\n",
       "    <tr style=\"text-align: right;\">\n",
       "      <th></th>\n",
       "      <th>session_type</th>\n",
       "      <th>labels</th>\n",
       "    </tr>\n",
       "  </thead>\n",
       "  <tbody>\n",
       "    <tr>\n",
       "      <th>0</th>\n",
       "      <td>12899779_clicks</td>\n",
       "      <td>1035726 1034086 553695 1010169 1723172 1679994...</td>\n",
       "    </tr>\n",
       "    <tr>\n",
       "      <th>1</th>\n",
       "      <td>12899779_carts</td>\n",
       "      <td>1035726 1034086 553695 1010169 1723172 1679994...</td>\n",
       "    </tr>\n",
       "    <tr>\n",
       "      <th>2</th>\n",
       "      <td>12899779_orders</td>\n",
       "      <td>1035726 1034086 553695 1010169 1723172 1679994...</td>\n",
       "    </tr>\n",
       "    <tr>\n",
       "      <th>3</th>\n",
       "      <td>12899780_clicks</td>\n",
       "      <td>1229906 484175 1707102 903505 812732 243201 60...</td>\n",
       "    </tr>\n",
       "    <tr>\n",
       "      <th>4</th>\n",
       "      <td>12899780_carts</td>\n",
       "      <td>1229906 484175 1707102 903505 812732 243201 60...</td>\n",
       "    </tr>\n",
       "    <tr>\n",
       "      <th>...</th>\n",
       "      <td>...</td>\n",
       "      <td>...</td>\n",
       "    </tr>\n",
       "    <tr>\n",
       "      <th>5015404</th>\n",
       "      <td>14571580_carts</td>\n",
       "      <td>1345247 1323437 1053699 494622 1843398 282588 ...</td>\n",
       "    </tr>\n",
       "    <tr>\n",
       "      <th>5015405</th>\n",
       "      <td>14571580_orders</td>\n",
       "      <td>1345247 1323437 1053699 494622 1843398 282588 ...</td>\n",
       "    </tr>\n",
       "    <tr>\n",
       "      <th>5015406</th>\n",
       "      <td>14571581_clicks</td>\n",
       "      <td>923052 349927 1819514 1251085 144001 1106435 7...</td>\n",
       "    </tr>\n",
       "    <tr>\n",
       "      <th>5015407</th>\n",
       "      <td>14571581_carts</td>\n",
       "      <td>923052 349927 1819514 1251085 144001 1106435 7...</td>\n",
       "    </tr>\n",
       "    <tr>\n",
       "      <th>5015408</th>\n",
       "      <td>14571581_orders</td>\n",
       "      <td>923052 349927 1819514 1251085 144001 1106435 7...</td>\n",
       "    </tr>\n",
       "  </tbody>\n",
       "</table>\n",
       "<p>5015409 rows × 2 columns</p>\n",
       "</div>"
      ],
      "text/plain": [
       "            session_type                                             labels\n",
       "0        12899779_clicks  1035726 1034086 553695 1010169 1723172 1679994...\n",
       "1         12899779_carts  1035726 1034086 553695 1010169 1723172 1679994...\n",
       "2        12899779_orders  1035726 1034086 553695 1010169 1723172 1679994...\n",
       "3        12899780_clicks  1229906 484175 1707102 903505 812732 243201 60...\n",
       "4         12899780_carts  1229906 484175 1707102 903505 812732 243201 60...\n",
       "...                  ...                                                ...\n",
       "5015404   14571580_carts  1345247 1323437 1053699 494622 1843398 282588 ...\n",
       "5015405  14571580_orders  1345247 1323437 1053699 494622 1843398 282588 ...\n",
       "5015406  14571581_clicks  923052 349927 1819514 1251085 144001 1106435 7...\n",
       "5015407   14571581_carts  923052 349927 1819514 1251085 144001 1106435 7...\n",
       "5015408  14571581_orders  923052 349927 1819514 1251085 144001 1106435 7...\n",
       "\n",
       "[5015409 rows x 2 columns]"
      ]
     },
     "execution_count": 19,
     "metadata": {},
     "output_type": "execute_result"
    }
   ],
   "source": [
    "submission"
   ]
  },
  {
   "cell_type": "code",
   "execution_count": null,
   "id": "179a2108-2584-4b37-883a-537566420e32",
   "metadata": {},
   "outputs": [],
   "source": []
  }
 ],
 "metadata": {
  "kernelspec": {
   "display_name": "Python 3 (ipykernel)",
   "language": "python",
   "name": "python3"
  },
  "language_info": {
   "codemirror_mode": {
    "name": "ipython",
    "version": 3
   },
   "file_extension": ".py",
   "mimetype": "text/x-python",
   "name": "python",
   "nbconvert_exporter": "python",
   "pygments_lexer": "ipython3",
   "version": "3.8.18"
  }
 },
 "nbformat": 4,
 "nbformat_minor": 5
}
