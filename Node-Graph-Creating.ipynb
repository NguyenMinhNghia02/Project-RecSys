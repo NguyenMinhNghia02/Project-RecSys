{
 "cells": [
  {
   "cell_type": "code",
   "execution_count": 1,
   "id": "d99e9377-4c42-4371-89e9-b53fab32e103",
   "metadata": {},
   "outputs": [],
   "source": [
    "import torch\n"
   ]
  },
  {
   "cell_type": "code",
   "execution_count": 2,
   "id": "5e670d5b-248c-4d4f-a799-f12ce62ad995",
   "metadata": {},
   "outputs": [
    {
     "data": {
      "text/plain": [
       "True"
      ]
     },
     "execution_count": 2,
     "metadata": {},
     "output_type": "execute_result"
    }
   ],
   "source": [
    "torch.cuda.is_available()"
   ]
  },
  {
   "cell_type": "code",
   "execution_count": 3,
   "id": "3bd99131-0da5-427d-8911-a96ceea071f4",
   "metadata": {},
   "outputs": [
    {
     "name": "stdout",
     "output_type": "stream",
     "text": [
      "Requirement already satisfied: transformers in d:\\miniconda\\envs\\recom\\lib\\site-packages (4.36.2)\n",
      "Requirement already satisfied: filelock in d:\\miniconda\\envs\\recom\\lib\\site-packages (from transformers) (3.13.1)\n",
      "Requirement already satisfied: huggingface-hub<1.0,>=0.19.3 in d:\\miniconda\\envs\\recom\\lib\\site-packages (from transformers) (0.20.1)\n",
      "Requirement already satisfied: numpy>=1.17 in d:\\miniconda\\envs\\recom\\lib\\site-packages (from transformers) (1.24.3)\n",
      "Requirement already satisfied: packaging>=20.0 in d:\\miniconda\\envs\\recom\\lib\\site-packages (from transformers) (23.2)\n",
      "Requirement already satisfied: pyyaml>=5.1 in d:\\miniconda\\envs\\recom\\lib\\site-packages (from transformers) (6.0.1)\n",
      "Requirement already satisfied: regex!=2019.12.17 in d:\\miniconda\\envs\\recom\\lib\\site-packages (from transformers) (2023.12.25)\n",
      "Requirement already satisfied: requests in d:\\miniconda\\envs\\recom\\lib\\site-packages (from transformers) (2.31.0)\n",
      "Requirement already satisfied: tokenizers<0.19,>=0.14 in d:\\miniconda\\envs\\recom\\lib\\site-packages (from transformers) (0.15.0)\n",
      "Requirement already satisfied: safetensors>=0.3.1 in d:\\miniconda\\envs\\recom\\lib\\site-packages (from transformers) (0.4.1)\n",
      "Requirement already satisfied: tqdm>=4.27 in d:\\miniconda\\envs\\recom\\lib\\site-packages (from transformers) (4.66.1)\n",
      "Requirement already satisfied: fsspec>=2023.5.0 in d:\\miniconda\\envs\\recom\\lib\\site-packages (from huggingface-hub<1.0,>=0.19.3->transformers) (2023.10.0)\n",
      "Requirement already satisfied: typing-extensions>=3.7.4.3 in d:\\miniconda\\envs\\recom\\lib\\site-packages (from huggingface-hub<1.0,>=0.19.3->transformers) (4.5.0)\n",
      "Requirement already satisfied: colorama in d:\\miniconda\\envs\\recom\\lib\\site-packages (from tqdm>=4.27->transformers) (0.4.6)\n",
      "Requirement already satisfied: charset-normalizer<4,>=2 in d:\\miniconda\\envs\\recom\\lib\\site-packages (from requests->transformers) (3.3.2)\n",
      "Requirement already satisfied: idna<4,>=2.5 in d:\\miniconda\\envs\\recom\\lib\\site-packages (from requests->transformers) (3.6)\n",
      "Requirement already satisfied: urllib3<3,>=1.21.1 in d:\\miniconda\\envs\\recom\\lib\\site-packages (from requests->transformers) (2.1.0)\n",
      "Requirement already satisfied: certifi>=2017.4.17 in d:\\miniconda\\envs\\recom\\lib\\site-packages (from requests->transformers) (2023.11.17)\n",
      "Note: you may need to restart the kernel to use updated packages.\n"
     ]
    }
   ],
   "source": [
    "pip install transformers"
   ]
  },
  {
   "cell_type": "code",
   "execution_count": 4,
   "id": "38e40dbb-47e2-4b28-8fe2-4c82e5f1997b",
   "metadata": {},
   "outputs": [
    {
     "data": {
      "text/plain": [
       "'2.1.2+cu118'"
      ]
     },
     "execution_count": 4,
     "metadata": {},
     "output_type": "execute_result"
    }
   ],
   "source": [
    "GLOBAL_SEED = 42\n",
    "\n",
    "import os\n",
    "os.environ[\"PYTHONIOENCODING\"] = \"utf8\"\n",
    "os.environ['PYTHONHASHSEED'] = str(GLOBAL_SEED)\n",
    "import sys\n",
    "from glob import glob\n",
    "\n",
    "import pandas as pd\n",
    "import numpy as np\n",
    "from numpy import random as np_rnd\n",
    "import random as rnd\n",
    "import shutil\n",
    "import gc\n",
    "import datetime\n",
    "from collections import defaultdict, Counter\n",
    "from tqdm import tqdm\n",
    "from multiprocessing import Pool, cpu_count\n",
    "import time\n",
    "import pickle\n",
    "import sklearn as skl\n",
    "from sklearn import model_selection\n",
    "\n",
    "import torch\n",
    "from torch.utils.data import Dataset, DataLoader\n",
    "from torch import nn\n",
    "import torch.nn.functional as F\n",
    "from torch.optim import AdamW, Adam, SparseAdam\n",
    "from transformers import get_polynomial_decay_schedule_with_warmup\n",
    "\n",
    "device = torch.device('cuda' if torch.cuda.is_available() else 'cpu')\n",
    "torch.__version__\n"
   ]
  },
  {
   "cell_type": "code",
   "execution_count": 5,
   "id": "1aba9281-3769-4ef7-8089-0afb6e6fe581",
   "metadata": {},
   "outputs": [],
   "source": [
    "from torch_geometric.data import Data\n",
    "from torch_geometric.utils import coalesce, is_undirected, to_undirected, sort_edge_index\n",
    "from torch_geometric.sampler import BaseSampler\n",
    "from torch_geometric.nn import GCNConv"
   ]
  },
  {
   "cell_type": "code",
   "execution_count": 6,
   "id": "4e9fc4cd-f36c-45e1-8a47-dad2649e67da",
   "metadata": {},
   "outputs": [
    {
     "name": "stdout",
     "output_type": "stream",
     "text": [
      "Requirement already satisfied: pyarrow in d:\\miniconda\\envs\\recom\\lib\\site-packages (14.0.2)\n",
      "Requirement already satisfied: numpy>=1.16.6 in d:\\miniconda\\envs\\recom\\lib\\site-packages (from pyarrow) (1.24.3)\n",
      "Note: you may need to restart the kernel to use updated packages.\n"
     ]
    }
   ],
   "source": [
    "pip install pyarrow"
   ]
  },
  {
   "cell_type": "code",
   "execution_count": 7,
   "id": "fa91a2f0-e47b-4532-a6c8-84ee06c3da97",
   "metadata": {},
   "outputs": [
    {
     "name": "stdout",
     "output_type": "stream",
     "text": [
      "Requirement already satisfied: fastparquet in d:\\miniconda\\envs\\recom\\lib\\site-packages (2023.10.1)\n",
      "Requirement already satisfied: pandas>=1.5.0 in d:\\miniconda\\envs\\recom\\lib\\site-packages (from fastparquet) (2.0.3)\n",
      "Requirement already satisfied: numpy>=1.20.3 in d:\\miniconda\\envs\\recom\\lib\\site-packages (from fastparquet) (1.24.3)\n",
      "Requirement already satisfied: cramjam>=2.3 in d:\\miniconda\\envs\\recom\\lib\\site-packages (from fastparquet) (2.7.0)\n",
      "Requirement already satisfied: fsspec in d:\\miniconda\\envs\\recom\\lib\\site-packages (from fastparquet) (2023.10.0)\n",
      "Requirement already satisfied: packaging in d:\\miniconda\\envs\\recom\\lib\\site-packages (from fastparquet) (23.2)\n",
      "Requirement already satisfied: python-dateutil>=2.8.2 in d:\\miniconda\\envs\\recom\\lib\\site-packages (from pandas>=1.5.0->fastparquet) (2.8.2)\n",
      "Requirement already satisfied: pytz>=2020.1 in d:\\miniconda\\envs\\recom\\lib\\site-packages (from pandas>=1.5.0->fastparquet) (2023.3.post1)\n",
      "Requirement already satisfied: tzdata>=2022.1 in d:\\miniconda\\envs\\recom\\lib\\site-packages (from pandas>=1.5.0->fastparquet) (2023.3)\n",
      "Requirement already satisfied: six>=1.5 in d:\\miniconda\\envs\\recom\\lib\\site-packages (from python-dateutil>=2.8.2->pandas>=1.5.0->fastparquet) (1.16.0)\n",
      "Note: you may need to restart the kernel to use updated packages.\n"
     ]
    }
   ],
   "source": [
    "pip install fastparquet"
   ]
  },
  {
   "cell_type": "code",
   "execution_count": 8,
   "id": "1dcb771d-6852-4c4d-a4a4-393856d1507d",
   "metadata": {},
   "outputs": [
    {
     "data": {
      "text/plain": [
       "0"
      ]
     },
     "execution_count": 8,
     "metadata": {},
     "output_type": "execute_result"
    }
   ],
   "source": [
    "fraction_of_sessions_to_use = 0.5\n",
    "\n",
    "train = pd.read_parquet('./data/train.parquet')\n",
    "test = pd.read_parquet('./data/test.parquet')\n",
    "\n",
    "lucky_sessions_train = train.drop_duplicates(['session']).sample(frac=fraction_of_sessions_to_use, random_state=42)['session']\n",
    "subset_of_train = train[train.session.isin(lucky_sessions_train)]\n",
    "subset_of_test = test\n",
    "\n",
    "subset_of_train.index = pd.MultiIndex.from_frame(subset_of_train[['session']])\n",
    "subset_of_test.index = pd.MultiIndex.from_frame(subset_of_test[['session']])\n",
    "\n",
    "subsets = pd.concat([subset_of_train, subset_of_test])\n",
    "sessions = subsets.session.unique()\n",
    "\n",
    "del lucky_sessions_train, subset_of_train, subset_of_test; gc.collect()"
   ]
  },
  {
   "cell_type": "code",
   "execution_count": 9,
   "id": "154d63ff-2b94-46d3-8df8-7d961c3b745b",
   "metadata": {},
   "outputs": [
    {
     "name": "stderr",
     "output_type": "stream",
     "text": [
      "100%|████████████████████████████████████████████████████████████████████████████████| 248/248 [09:44<00:00,  2.36s/it]\n"
     ]
    }
   ],
   "source": [
    "chunk_size = 16384*2\n",
    "recent_aids = 20\n",
    "hour_interval_threshold = 6\n",
    "df_adj = pd.DataFrame(columns=[\"aid_x\", \"aid_y\"], dtype=\"int64\")\n",
    "\n",
    "# session \n",
    "for i in tqdm(range(0, sessions.shape[0], chunk_size), total=len(range(0, sessions.shape[0], chunk_size))):\n",
    "    # chunk size \n",
    "    current_chunk = subsets.loc[sessions[i]:sessions[min(sessions.shape[0]-1, i+chunk_size-1)]].reset_index(drop=True)\n",
    "    current_chunk = current_chunk.groupby('session', as_index=False).nth(list(range(-recent_aids, 0))).reset_index(drop=True)\n",
    "    consecutive_AIDs = current_chunk.merge(current_chunk, on='session')\n",
    "    consecutive_AIDs = consecutive_AIDs[consecutive_AIDs.aid_x != consecutive_AIDs.aid_y]\n",
    "    consecutive_AIDs['days_elapsed'] = (consecutive_AIDs.ts_y - consecutive_AIDs.ts_x) / 3600\n",
    "    consecutive_AIDs = consecutive_AIDs[(consecutive_AIDs.days_elapsed > 0) & (consecutive_AIDs.days_elapsed < hour_interval_threshold)]\n",
    "\n",
    "    df_adj = pd.concat([df_adj, consecutive_AIDs[[\"aid_x\", \"aid_y\"]]], axis=0, ignore_index=True)\n",
    "    \n",
    "n_aids = subsets[\"aid\"].max() + 1\n",
    "nodes = np.arange(subsets[\"aid\"].max() + 1, dtype=\"int64\")"
   ]
  },
  {
   "cell_type": "code",
   "execution_count": null,
   "id": "886f1ee6-2092-4a4e-8fb6-5dcdffe16e2c",
   "metadata": {},
   "outputs": [],
   "source": [
    "data_graph = Data(\n",
    "    x=torch.tensor(nodes, dtype=torch.int64),\n",
    "    edge_index=torch.tensor(df_adj.to_numpy().T, dtype=torch.int64),\n",
    ")\n",
    "# Loại bỏ cạnh trùng\n",
    "data_graph.edge_index = coalesce(data_graph.edge_index)\n",
    "data_graph.edge_index = to_undirected(data_graph.edge_index)\n",
    "\n",
    "with open(\"./data_graph.pkl\", \"wb\") as file:\n",
    "    pickle.dump(data_graph, file)\n",
    "\n",
    "del subsets, sessions, nodes, df_adj, current_chunk, consecutive_AIDs; gc.collect()"
   ]
  },
  {
   "cell_type": "code",
   "execution_count": null,
   "id": "9999fd86-b63b-4d31-8256-63966484fc3b",
   "metadata": {},
   "outputs": [],
   "source": [
    "with open(\"./node_feature.pkl\", \"wb\") as file:\n",
    "    pickle.dump(data_graph.x, file)"
   ]
  },
  {
   "cell_type": "code",
   "execution_count": null,
   "id": "27dc2f76-106c-48da-9f3b-e7b2619795d1",
   "metadata": {},
   "outputs": [],
   "source": [
    "def seed_everything(seed=42):\n",
    "    os.environ['PYTHONHASHSEED'] = str(seed)\n",
    "    # python random\n",
    "    rnd.seed(seed)\n",
    "    # numpy random\n",
    "    np_rnd.seed(seed)\n",
    "    # RAPIDS random\n",
    "    try:\n",
    "        cp.random.seed(seed)\n",
    "    except:\n",
    "        pass\n",
    "    # tf random\n",
    "    try:\n",
    "        tf_rnd.set_seed(seed)\n",
    "    except:\n",
    "        pass\n",
    "    # pytorch random\n",
    "    try:\n",
    "        torch.manual_seed(seed)\n",
    "        torch.cuda.manual_seed(seed)\n",
    "        torch.backends.cudnn.deterministic = True\n",
    "    except:\n",
    "        pass"
   ]
  },
  {
   "cell_type": "code",
   "execution_count": null,
   "id": "7e04be70-c836-494f-bc69-ff2175e6e99c",
   "metadata": {},
   "outputs": [],
   "source": [
    "edge_index = pd.DataFrame(data_graph.edge_index.detach().cpu().numpy().T, columns=[\"x\", \"y\"], dtype=\"int64\")\n",
    "seed_everything()\n",
    "shuffled_idx = np_rnd.permutation(len(edge_index))\n",
    "edge_index.iloc[shuffled_idx[:int(len(shuffled_idx) * 0.8)]].reset_index(drop=True).to_parquet(\"./train_edge.parquet\")\n",
    "edge_index.iloc[shuffled_idx[int(len(shuffled_idx) * 0.8):]].reset_index(drop=True).to_parquet(\"./valid_edge.parquet\")"
   ]
  },
  {
   "cell_type": "code",
   "execution_count": null,
   "id": "cf0d35b5-80ec-4ce5-bc82-5f517cada605",
   "metadata": {},
   "outputs": [],
   "source": [
    "edge_index.iloc[shuffled_idx[:int(len(shuffled_idx) * 0.8)]].shape"
   ]
  },
  {
   "cell_type": "code",
   "execution_count": null,
   "id": "67b31275-8fb1-466e-b151-d3006c1f4ec6",
   "metadata": {},
   "outputs": [],
   "source": [
    "edge_index.iloc[shuffled_idx[int(len(shuffled_idx) * 0.8):]].shape"
   ]
  },
  {
   "cell_type": "code",
   "execution_count": null,
   "id": "01d4d82d-2968-4233-9e6f-afec7654979f",
   "metadata": {},
   "outputs": [],
   "source": []
  }
 ],
 "metadata": {
  "kernelspec": {
   "display_name": "Python 3 (ipykernel)",
   "language": "python",
   "name": "python3"
  },
  "language_info": {
   "codemirror_mode": {
    "name": "ipython",
    "version": 3
   },
   "file_extension": ".py",
   "mimetype": "text/x-python",
   "name": "python",
   "nbconvert_exporter": "python",
   "pygments_lexer": "ipython3",
   "version": "3.8.18"
  }
 },
 "nbformat": 4,
 "nbformat_minor": 5
}
