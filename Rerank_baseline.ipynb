{
 "cells": [
  {
   "cell_type": "code",
   "execution_count": 1,
   "id": "746c6c6c-c523-472e-b68a-b142c3e1aa3a",
   "metadata": {},
   "outputs": [],
   "source": [
    "import os\n",
    "os.environ[\"PYTHONIOENCODING\"] = \"utf8\"\n",
    "import sys\n",
    "\n",
    "import pandas as pd\n",
    "import numpy as np\n",
    "from numpy import random as np_rnd\n",
    "import random as rnd\n",
    "import shutil\n",
    "import gc\n",
    "import datetime\n",
    "from collections import defaultdict, Counter\n",
    "from multiprocessing import Pool, cpu_count\n",
    "import time\n",
    "from tqdm import tqdm\n",
    "\n",
    "import matplotlib.pyplot as plt\n",
    "import seaborn as sns"
   ]
  },
  {
   "cell_type": "code",
   "execution_count": 2,
   "id": "deb65589-4f57-4720-a7d0-68f06d39aee8",
   "metadata": {},
   "outputs": [],
   "source": [
    "def create_submission(df):\n",
    "    df = df.reset_index()\n",
    "    df[\"type\"] = df[\"type\"].map(CFG.contentType_mapper)\n",
    "    df[\"session_type\"] = df[\"session\"].astype(\"str\") + \"_\" + df[\"type\"].astype(\"str\") + \"s\"\n",
    "    df = df[[\"session_type\", \"prediction\"]].rename({\"prediction\": \"labels\"}, axis=1)\n",
    "    return df\n",
    "    "
   ]
  },
  {
   "cell_type": "code",
   "execution_count": 3,
   "id": "1c6b54f5-1c06-488f-8f61-306f0530f8fc",
   "metadata": {},
   "outputs": [],
   "source": [
    "class CFG:\n",
    "    contentType_mapper = pd.Series([\"clicks\", \"carts\", \"orders\"], index=[0, 1, 2])\n",
    "    target_weight = (0.1, 0.3, 0.6)\n"
   ]
  },
  {
   "cell_type": "code",
   "execution_count": 4,
   "id": "545c4675-6146-460d-b224-eea97d29c206",
   "metadata": {},
   "outputs": [],
   "source": [
    "fraction_of_sessions_to_use = 1\n",
    "\n",
    "test = pd.read_parquet('./data/test.parquet')\n",
    "subset_of_test = test\n",
    "\n",
    "subset_of_test.index = pd.MultiIndex.from_frame(subset_of_test[['session']])\n",
    "\n",
    "subsets = subset_of_test\n",
    "sessions = subsets.session.unique()"
   ]
  },
  {
   "cell_type": "code",
   "execution_count": 5,
   "id": "c11879d3-b69e-4bf0-9c05-8d6a87d1d896",
   "metadata": {},
   "outputs": [],
   "source": [
    "session_types = ['clicks', 'carts', 'orders']\n",
    "test_session_AIDs = subsets.reset_index(drop=True).groupby('session')['aid'].apply(list)\n",
    "test_session_types = subsets.reset_index(drop=True).groupby('session')['type'].apply(list)\n",
    "test_session_time_interval = subsets.reset_index(drop=True).groupby('session')['ts'].apply(lambda x: [np.log1p(1 / (i+1)) for i in ((x.max() - x) / 3600).values])"
   ]
  },
  {
   "cell_type": "code",
   "execution_count": 6,
   "id": "d1cda806-6a75-41a9-b95e-503756475c1c",
   "metadata": {},
   "outputs": [
    {
     "data": {
      "text/plain": [
       "0"
      ]
     },
     "execution_count": 6,
     "metadata": {},
     "output_type": "execute_result"
    }
   ],
   "source": [
    "del test, subset_of_test; gc.collect()"
   ]
  },
  {
   "cell_type": "code",
   "execution_count": 7,
   "id": "aec981d5-d07d-4677-b6bc-5b9ad4b0f036",
   "metadata": {},
   "outputs": [
    {
     "name": "stderr",
     "output_type": "stream",
     "text": [
      "100%|█████████████████████████████████████████████████████████████████████| 1671803/1671803 [01:26<00:00, 19429.89it/s]\n"
     ]
    }
   ],
   "source": [
    "n_aids = 20\n",
    "\n",
    "# CORE HYPER-PARAMERTER 1 - weight by event types\n",
    "type_weight_multipliers = {0: 0.1, 1: 0.6, 2: 0.3}\n",
    "\n",
    "output = {\n",
    "    \"session\": [],\n",
    "    \"type\": [],\n",
    "    \"rec\": [],\n",
    "    \"score\": [],\n",
    "}\n",
    "# Rerank - Lịch sử aids\n",
    "for SESS, AIDs, types, time_inteval in tqdm(zip(test_session_AIDs.index, test_session_AIDs.values, test_session_types.values, test_session_time_interval.values), total=len(test_session_AIDs)):\n",
    "\n",
    "    candidates = Counter()\n",
    "    for aid, w, t in zip(AIDs[::-1], time_inteval[::-1], types[::-1]):\n",
    "        candidates.update({aid: w * type_weight_multipliers[t]})\n",
    "    rec, score = zip(*candidates.most_common(n_aids))\n",
    "    rec_list = \" \".join([str(k) for k in list(rec)])\n",
    "    score_list = \" \".join([str(k) for k in list(np.round(score, 5))])                    \n",
    "        \n",
    "    output[\"session\"].extend([SESS] * 3)\n",
    "    output[\"type\"].extend([0, 1, 2])\n",
    "    output[\"rec\"].extend([rec_list] * 3)\n",
    "    output[\"score\"].extend([score_list] * 3)\n",
    "\n",
    "output = pd.DataFrame(output).set_index([\"session\", \"type\"])"
   ]
  },
  {
   "cell_type": "code",
   "execution_count": 8,
   "id": "3ca78640-b7f0-4001-bf63-0d8f4db53fc9",
   "metadata": {},
   "outputs": [
    {
     "data": {
      "text/html": [
       "<div>\n",
       "<style scoped>\n",
       "    .dataframe tbody tr th:only-of-type {\n",
       "        vertical-align: middle;\n",
       "    }\n",
       "\n",
       "    .dataframe tbody tr th {\n",
       "        vertical-align: top;\n",
       "    }\n",
       "\n",
       "    .dataframe thead th {\n",
       "        text-align: right;\n",
       "    }\n",
       "</style>\n",
       "<table border=\"1\" class=\"dataframe\">\n",
       "  <thead>\n",
       "    <tr style=\"text-align: right;\">\n",
       "      <th></th>\n",
       "      <th></th>\n",
       "      <th>rec</th>\n",
       "      <th>score</th>\n",
       "    </tr>\n",
       "    <tr>\n",
       "      <th>session</th>\n",
       "      <th>type</th>\n",
       "      <th></th>\n",
       "      <th></th>\n",
       "    </tr>\n",
       "  </thead>\n",
       "  <tbody>\n",
       "    <tr>\n",
       "      <th rowspan=\"3\" valign=\"top\">12899779</th>\n",
       "      <th>0</th>\n",
       "      <td>59625</td>\n",
       "      <td>0.06931</td>\n",
       "    </tr>\n",
       "    <tr>\n",
       "      <th>1</th>\n",
       "      <td>59625</td>\n",
       "      <td>0.06931</td>\n",
       "    </tr>\n",
       "    <tr>\n",
       "      <th>2</th>\n",
       "      <td>59625</td>\n",
       "      <td>0.06931</td>\n",
       "    </tr>\n",
       "    <tr>\n",
       "      <th rowspan=\"2\" valign=\"top\">12899780</th>\n",
       "      <th>0</th>\n",
       "      <td>1142000 736515 973453 582732</td>\n",
       "      <td>0.13654 0.06905 0.06868 0.06799</td>\n",
       "    </tr>\n",
       "    <tr>\n",
       "      <th>1</th>\n",
       "      <td>1142000 736515 973453 582732</td>\n",
       "      <td>0.13654 0.06905 0.06868 0.06799</td>\n",
       "    </tr>\n",
       "    <tr>\n",
       "      <th>...</th>\n",
       "      <th>...</th>\n",
       "      <td>...</td>\n",
       "      <td>...</td>\n",
       "    </tr>\n",
       "    <tr>\n",
       "      <th rowspan=\"2\" valign=\"top\">14571580</th>\n",
       "      <th>1</th>\n",
       "      <td>202353</td>\n",
       "      <td>0.06931</td>\n",
       "    </tr>\n",
       "    <tr>\n",
       "      <th>2</th>\n",
       "      <td>202353</td>\n",
       "      <td>0.06931</td>\n",
       "    </tr>\n",
       "    <tr>\n",
       "      <th rowspan=\"3\" valign=\"top\">14571581</th>\n",
       "      <th>0</th>\n",
       "      <td>1100210</td>\n",
       "      <td>0.06931</td>\n",
       "    </tr>\n",
       "    <tr>\n",
       "      <th>1</th>\n",
       "      <td>1100210</td>\n",
       "      <td>0.06931</td>\n",
       "    </tr>\n",
       "    <tr>\n",
       "      <th>2</th>\n",
       "      <td>1100210</td>\n",
       "      <td>0.06931</td>\n",
       "    </tr>\n",
       "  </tbody>\n",
       "</table>\n",
       "<p>5015409 rows × 2 columns</p>\n",
       "</div>"
      ],
      "text/plain": [
       "                                        rec                            score\n",
       "session  type                                                               \n",
       "12899779 0                            59625                          0.06931\n",
       "         1                            59625                          0.06931\n",
       "         2                            59625                          0.06931\n",
       "12899780 0     1142000 736515 973453 582732  0.13654 0.06905 0.06868 0.06799\n",
       "         1     1142000 736515 973453 582732  0.13654 0.06905 0.06868 0.06799\n",
       "...                                     ...                              ...\n",
       "14571580 1                           202353                          0.06931\n",
       "         2                           202353                          0.06931\n",
       "14571581 0                          1100210                          0.06931\n",
       "         1                          1100210                          0.06931\n",
       "         2                          1100210                          0.06931\n",
       "\n",
       "[5015409 rows x 2 columns]"
      ]
     },
     "execution_count": 8,
     "metadata": {},
     "output_type": "execute_result"
    }
   ],
   "source": [
    "output"
   ]
  },
  {
   "cell_type": "code",
   "execution_count": 9,
   "id": "22310f9d-f043-4624-ad88-963b71e738ca",
   "metadata": {},
   "outputs": [],
   "source": [
    "output.reset_index().to_parquet(\"./raw_output_rerank.parquet\")"
   ]
  },
  {
   "cell_type": "code",
   "execution_count": 10,
   "id": "dedf5df6-c834-48fa-b0bf-1d64270d4e26",
   "metadata": {},
   "outputs": [],
   "source": [
    "output[\"session_type\"] = [str(i[0]) + \"_\" + str(CFG.contentType_mapper[i[1]]) for i in output.index]\n",
    "submission_rerank = pd.read_csv(\"./data/sample_submission.csv\")\n",
    "submission_rerank = submission_rerank.set_index(\"session_type\")\n",
    "submission_rerank.loc[output[\"session_type\"].values, \"labels\"] = output[\"rec\"].values\n",
    "submission_rerank = submission_rerank.reset_index()\n",
    "submission_rerank.to_csv(\"./submission_rerank.csv\", index=False)"
   ]
  },
  {
   "cell_type": "code",
   "execution_count": null,
   "id": "643fbf94-d3dc-4497-bd3a-67aa4433e140",
   "metadata": {},
   "outputs": [],
   "source": []
  }
 ],
 "metadata": {
  "kernelspec": {
   "display_name": "Python 3 (ipykernel)",
   "language": "python",
   "name": "python3"
  },
  "language_info": {
   "codemirror_mode": {
    "name": "ipython",
    "version": 3
   },
   "file_extension": ".py",
   "mimetype": "text/x-python",
   "name": "python",
   "nbconvert_exporter": "python",
   "pygments_lexer": "ipython3",
   "version": "3.8.18"
  }
 },
 "nbformat": 4,
 "nbformat_minor": 5
}
