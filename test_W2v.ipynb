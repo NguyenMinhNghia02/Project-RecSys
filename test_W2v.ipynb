{
 "cells": [
  {
   "cell_type": "code",
   "execution_count": 1,
   "id": "90b8b79b-ca02-405f-b606-a3dc5dee0324",
   "metadata": {},
   "outputs": [],
   "source": [
    "import polars as pl\n",
    "from gensim.test.utils import common_texts\n",
    "from gensim.models import Word2Vec\n",
    "\n",
    "train = pl.read_parquet('./data/train.parquet')\n",
    "test = pl.read_parquet('./data/test.parquet')\n"
   ]
  },
  {
   "cell_type": "code",
   "execution_count": 2,
   "id": "e2f23281-bbe6-4f56-98f5-19456c05591b",
   "metadata": {},
   "outputs": [
    {
     "name": "stderr",
     "output_type": "stream",
     "text": [
      "C:\\Users\\HP\\AppData\\Local\\Temp\\ipykernel_1376\\3112389582.py:1: DeprecationWarning: `groupby` is deprecated. It has been renamed to `group_by`.\n",
      "  sentences_df = pl.concat([train, test]).groupby('session').agg(\n"
     ]
    }
   ],
   "source": [
    "sentences_df = pl.concat([train, test]).groupby('session').agg(\n",
    "    pl.col('aid').alias('sentence')\n",
    ")"
   ]
  },
  {
   "cell_type": "code",
   "execution_count": 3,
   "id": "b9db850b-a922-4399-9678-1a74742a5d01",
   "metadata": {},
   "outputs": [],
   "source": [
    "sentences = sentences_df['sentence'].to_list()"
   ]
  },
  {
   "cell_type": "code",
   "execution_count": 4,
   "id": "69a909b4-c2c0-4abe-abec-f5f1add0a3d3",
   "metadata": {},
   "outputs": [
    {
     "name": "stdout",
     "output_type": "stream",
     "text": [
      "CPU times: total: 1h 39min 54s\n",
      "Wall time: 37min 46s\n"
     ]
    }
   ],
   "source": [
    "%%time\n",
    "\n",
    "w2vec = Word2Vec(sentences=sentences, vector_size=32, min_count=1, workers=4)"
   ]
  },
  {
   "cell_type": "code",
   "execution_count": 5,
   "id": "9a377846-9f84-4ed5-9a0c-532c47cc350a",
   "metadata": {},
   "outputs": [
    {
     "name": "stdout",
     "output_type": "stream",
     "text": [
      "CPU times: total: 1min 53s\n",
      "Wall time: 38.9 s\n"
     ]
    },
    {
     "data": {
      "text/plain": [
       "True"
      ]
     },
     "execution_count": 5,
     "metadata": {},
     "output_type": "execute_result"
    }
   ],
   "source": [
    "%%time\n",
    "\n",
    "from annoy import AnnoyIndex\n",
    "\n",
    "aid2idx = {aid: i for i, aid in enumerate(w2vec.wv.index_to_key)}\n",
    "index = AnnoyIndex(32, 'euclidean')\n",
    "\n",
    "for aid, idx in aid2idx.items():\n",
    "    index.add_item(idx, w2vec.wv.vectors[idx])\n",
    "    \n",
    "index.build(10)"
   ]
  },
  {
   "cell_type": "code",
   "execution_count": 6,
   "id": "7bbb50a5-7a45-45f7-ad9a-af373c773723",
   "metadata": {},
   "outputs": [],
   "source": [
    "import pandas as pd\n",
    "import numpy as np\n",
    "\n",
    "from collections import defaultdict\n",
    "\n",
    "sample_sub = pd.read_csv('./data/sample_submission.csv')\n",
    "\n",
    "session_types = ['clicks', 'carts', 'orders']\n",
    "test_session_AIDs = test.to_pandas().reset_index(drop=True).groupby('session')['aid'].apply(list)\n",
    "test_session_types = test.to_pandas().reset_index(drop=True).groupby('session')['type'].apply(list)"
   ]
  },
  {
   "cell_type": "code",
   "execution_count": 7,
   "id": "3edb5878-f34e-4d14-808c-4e895782d72f",
   "metadata": {},
   "outputs": [],
   "source": [
    "labels = []\n",
    "\n",
    "type_weight_multipliers = {0: 1, 1: 6, 2: 3}\n",
    "for AIDs, types in zip(test_session_AIDs, test_session_types):\n",
    "        AIDs = list(dict.fromkeys(AIDs[::-1]))\n",
    "        most_recent_aid = AIDs[0]\n",
    "        nns = [w2vec.wv.index_to_key[i] for i in index.get_nns_by_item(aid2idx[most_recent_aid], 21)[1:]]\n",
    "                        \n",
    "        labels.append((AIDs+nns)[:20])"
   ]
  },
  {
   "cell_type": "code",
   "execution_count": 8,
   "id": "d5a20ce6-1568-4f9c-8c71-d4a0e857b391",
   "metadata": {},
   "outputs": [],
   "source": [
    "labels_as_strings = [' '.join([str(l) for l in lls]) for lls in labels]\n",
    "\n",
    "predictions = pd.DataFrame(data={'session_type': test_session_AIDs.index, 'labels': labels_as_strings})\n",
    "\n",
    "prediction_dfs = []\n",
    "\n",
    "for st in session_types:\n",
    "    modified_predictions = predictions.copy()\n",
    "    modified_predictions.session_type = modified_predictions.session_type.astype('str') + f'_{st}'\n",
    "    prediction_dfs.append(modified_predictions)\n",
    "\n",
    "submission_w2v = pd.concat(prediction_dfs).reset_index(drop=True)\n",
    "submission_w2v.to_csv('submission_w2v.csv', index=False)"
   ]
  },
  {
   "cell_type": "code",
   "execution_count": null,
   "id": "e7c79781-b041-485f-88e9-0a930d068568",
   "metadata": {},
   "outputs": [],
   "source": []
  }
 ],
 "metadata": {
  "kernelspec": {
   "display_name": "Python 3 (ipykernel)",
   "language": "python",
   "name": "python3"
  },
  "language_info": {
   "codemirror_mode": {
    "name": "ipython",
    "version": 3
   },
   "file_extension": ".py",
   "mimetype": "text/x-python",
   "name": "python",
   "nbconvert_exporter": "python",
   "pygments_lexer": "ipython3",
   "version": "3.8.18"
  }
 },
 "nbformat": 4,
 "nbformat_minor": 5
}
